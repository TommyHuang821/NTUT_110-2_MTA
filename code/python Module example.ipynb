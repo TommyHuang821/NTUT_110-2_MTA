{
 "cells": [
  {
   "cell_type": "markdown",
   "id": "academic-collapse",
   "metadata": {},
   "source": [
    "## python操作簡單介紹\n"
   ]
  },
  {
   "cell_type": "markdown",
   "id": "better-cloud",
   "metadata": {},
   "source": [
    "Python基本的data structure\n",
    "* list\n",
    "* tuple\n",
    "* dict\n",
    "* set\n",
    "\n",
    "使用type()來看變數的型態"
   ]
  },
  {
   "cell_type": "markdown",
   "id": "chicken-mercury",
   "metadata": {},
   "source": [
    "## list\n",
    "\n",
    "在python非常常被拿來使用 <br>\n",
    "主要是說如果不知道資料要被儲存的長度什麼的可以用list來不斷串接<br>\n",
    "在語法上用: <br>\n",
    "- [] <br>\n",
    "- list()\n",
    "\n",
    "\n",
    "\n"
   ]
  },
  {
   "cell_type": "code",
   "execution_count": 1,
   "id": "appreciated-incident",
   "metadata": {},
   "outputs": [
    {
     "name": "stdout",
     "output_type": "stream",
     "text": [
      "-----\n",
      "[1]\n",
      "<class 'list'>\n",
      "-----\n",
      "[1, 2, 3]\n",
      "<class 'list'>\n",
      "-----\n",
      "[0, 1, 2, 3, 4, 5, 6, 7, 8, 9]\n",
      "<class 'list'>\n"
     ]
    }
   ],
   "source": [
    "A=[]\n",
    "A.append(1)\n",
    "print('-----')\n",
    "print(A)\n",
    "print(type(A))\n",
    "\n",
    "A.append(2)\n",
    "A.append(3)\n",
    "print('-----')\n",
    "print(A)\n",
    "print(type(A))\n",
    "\n",
    "A= list()\n",
    "for i in range(10):\n",
    "    A.append(i)\n",
    "print('-----')\n",
    "print(A)\n",
    "print(type(A))"
   ]
  },
  {
   "cell_type": "code",
   "execution_count": 2,
   "id": "sixth-redhead",
   "metadata": {},
   "outputs": [
    {
     "name": "stdout",
     "output_type": "stream",
     "text": [
      "-----\n",
      "['I am a.', 'I am b.', 'I am c.', 'I am d.']\n",
      "<class 'list'>\n",
      "-----\n",
      "['I am a.', 'I am b.', 'I am c.', 'I am d.', 123]\n",
      "<class 'list'>\n"
     ]
    }
   ],
   "source": [
    "a='I am a.'\n",
    "b='I am b.'\n",
    "c='I am c.'\n",
    "d='I am d.'\n",
    "\n",
    "A=[a,b,c,d]\n",
    "print('-----')\n",
    "print(A)\n",
    "print(type(A))\n",
    "\n",
    "A=[a,b,c,d, 123]\n",
    "print('-----')\n",
    "print(A)\n",
    "print(type(A))"
   ]
  },
  {
   "cell_type": "markdown",
   "id": "overall-laundry",
   "metadata": {},
   "source": [
    "### 簡單list操作\n",
    "\n",
    "有時候我們也可以使用 Python 的內建函數 list() 來創建，例如常被用作產生數列的內建函數 range() 的輸出不會被印出所有的數字，這時可以用轉換為 list 來觀察其中包含的數字。"
   ]
  },
  {
   "cell_type": "code",
   "execution_count": 3,
   "id": "declared-remainder",
   "metadata": {},
   "outputs": [
    {
     "name": "stdout",
     "output_type": "stream",
     "text": [
      "-----\n",
      "range(0, 10)\n",
      "<class 'range'>\n",
      "-----\n",
      "[0, 1, 2, 3, 4, 5, 6, 7, 8, 9]\n",
      "<class 'list'>\n"
     ]
    }
   ],
   "source": [
    "a=range(10)\n",
    "print('-----')\n",
    "print(a)\n",
    "print(type(a))\n",
    "\n",
    "a=list(a)\n",
    "print('-----')\n",
    "print(a)\n",
    "print(type(a))"
   ]
  },
  {
   "cell_type": "code",
   "execution_count": 4,
   "id": "fitted-diagram",
   "metadata": {},
   "outputs": [
    {
     "name": "stdout",
     "output_type": "stream",
     "text": [
      "['I am a.', 'I am b.', 'I am c.', 'I am d.']\n",
      "-----\n",
      "position 0 of A: \n",
      " I am a.\n",
      "position 1 of A: \n",
      " I am b.\n",
      "position 2 of A: \n",
      " I am c.\n",
      "position 3 of A: \n",
      " I am d.\n",
      "position -1 of A: \n",
      " I am d.\n",
      "position -2 of A: \n",
      " I am c.\n",
      "position -3 of A: \n",
      " I am b.\n",
      "position -4 of A: \n",
      " I am a.\n"
     ]
    }
   ],
   "source": [
    "a='I am a.'\n",
    "b='I am b.'\n",
    "c='I am c.'\n",
    "d='I am d.'\n",
    "A=[a,b,c,d]\n",
    "print(A)\n",
    "\n",
    "print('-----')\n",
    "print('position 0 of A: \\n {}'.format(A[0]))\n",
    "print('position 1 of A: \\n {}'.format(A[1]))\n",
    "print('position 2 of A: \\n {}'.format(A[2]))\n",
    "print('position 3 of A: \\n {}'.format(A[3]))\n",
    "print('position -1 of A: \\n {}'.format(A[-1]))\n",
    "print('position -2 of A: \\n {}'.format(A[-2]))\n",
    "print('position -3 of A: \\n {}'.format(A[-3]))\n",
    "print('position -4 of A: \\n {}'.format(A[-4]))\n",
    "\n"
   ]
  },
  {
   "cell_type": "code",
   "execution_count": 5,
   "id": "cathedral-championship",
   "metadata": {},
   "outputs": [
    {
     "name": "stdout",
     "output_type": "stream",
     "text": [
      "[1, 2, 3, 4]\n",
      "-----\n",
      "position 0 of A: \n",
      " 1\n",
      "position 1 of A: \n",
      " 2\n",
      "position 2 of A: \n",
      " 3\n",
      "position 3 of A: \n",
      " 4\n",
      "position 0:2 of A: \n",
      " [1, 2]\n",
      "position -1:-3 of A: \n",
      " [2, 3]\n"
     ]
    }
   ],
   "source": [
    "A=[1,2,3,4]\n",
    "print(A)\n",
    "\n",
    "print('-----')\n",
    "print('position 0 of A: \\n {}'.format(A[0]))\n",
    "print('position 1 of A: \\n {}'.format(A[1]))\n",
    "print('position 2 of A: \\n {}'.format(A[2]))\n",
    "print('position 3 of A: \\n {}'.format(A[3]))\n",
    "\n",
    "print('position 0:2 of A: \\n {}'.format(A[0:2]))\n",
    "print('position -1:-3 of A: \\n {}'.format(A[-3:-1]))\n"
   ]
  },
  {
   "cell_type": "code",
   "execution_count": 6,
   "id": "anticipated-senegal",
   "metadata": {},
   "outputs": [
    {
     "name": "stdout",
     "output_type": "stream",
     "text": [
      "[0, 1, 2, 3, 4, 5, 6, 7, 8, 9]\n",
      "[0, 1, 2, 3, 4, 5, 6, 7, 8, 9]\n"
     ]
    }
   ],
   "source": [
    "A =[]\n",
    "for i in range(10):\n",
    "    A.append(i)\n",
    "print(A)\n",
    "   \n",
    "A=[i for i in range(10)]\n",
    "print(A)\n"
   ]
  },
  {
   "cell_type": "code",
   "execution_count": 7,
   "id": "median-porter",
   "metadata": {},
   "outputs": [
    {
     "name": "stdout",
     "output_type": "stream",
     "text": [
      "[0, 2, 4, 6, 8]\n",
      "[0, 2, 4, 6, 8]\n"
     ]
    }
   ],
   "source": [
    "A =[]\n",
    "for i in range(10):\n",
    "    if i% 2 ==0:\n",
    "        A.append(i)\n",
    "print(A)\n",
    "   \n",
    "A=[i for i in range(10) if i%2==0]\n",
    "print(A)"
   ]
  },
  {
   "cell_type": "markdown",
   "id": "closing-fusion",
   "metadata": {},
   "source": [
    "## tuple\n",
    "\n",
    "另一常用的資料結構，多數的特性都與 list 相同\n",
    "在語法上用: <br>\n",
    "- () <br>\n",
    "- tuple()<br>\n",
    "\n",
    "\n",
    "tuple 與 list 最大的差異在於 tuple 是不可變動（immutable）的資料結構，不具備任何包含新增、刪除與排序資料的操作"
   ]
  },
  {
   "cell_type": "code",
   "execution_count": 8,
   "id": "departmental-heavy",
   "metadata": {},
   "outputs": [
    {
     "name": "stdout",
     "output_type": "stream",
     "text": [
      "(1, 2, 3, 'AAA')\n",
      "<class 'tuple'>\n",
      "3\n"
     ]
    }
   ],
   "source": [
    "A=(1,2,3,'AAA')\n",
    "print(A)\n",
    "print(type(A))\n",
    "print(A[2])"
   ]
  },
  {
   "cell_type": "code",
   "execution_count": 9,
   "id": "tested-primary",
   "metadata": {},
   "outputs": [
    {
     "ename": "TypeError",
     "evalue": "'tuple' object does not support item assignment",
     "output_type": "error",
     "traceback": [
      "\u001b[1;31m---------------------------------------------------------------------------\u001b[0m",
      "\u001b[1;31mTypeError\u001b[0m                                 Traceback (most recent call last)",
      "\u001b[1;32m<ipython-input-9-2970842dd7f2>\u001b[0m in \u001b[0;36m<module>\u001b[1;34m\u001b[0m\n\u001b[1;32m----> 1\u001b[1;33m \u001b[0mA\u001b[0m\u001b[1;33m[\u001b[0m\u001b[1;36m2\u001b[0m\u001b[1;33m]\u001b[0m\u001b[1;33m=\u001b[0m\u001b[1;36m3\u001b[0m\u001b[1;33m\u001b[0m\u001b[1;33m\u001b[0m\u001b[0m\n\u001b[0m\u001b[0;32m      2\u001b[0m \u001b[0mprint\u001b[0m\u001b[1;33m(\u001b[0m\u001b[0mA\u001b[0m\u001b[1;33m)\u001b[0m\u001b[1;33m\u001b[0m\u001b[1;33m\u001b[0m\u001b[0m\n",
      "\u001b[1;31mTypeError\u001b[0m: 'tuple' object does not support item assignment"
     ]
    }
   ],
   "source": [
    "A[2]=3\n",
    "print(A)"
   ]
  },
  {
   "cell_type": "markdown",
   "id": "rental-membrane",
   "metadata": {},
   "source": [
    "## dict\n",
    "\n",
    "dict 是 dictionary (字典) 的縮寫<br>\n",
    "dict的資料結構除了儲存資料(values)以外，並利用標籤(keys)來對資料作索引。 <br>\n",
    "在語法上用: <br>\n",
    "- {} <br>\n",
    "- dict() <br>\n",
    "\n",
    "Example:<br>\n",
    "老闆手冊<br>\n",
    "黃小明欠債100元<br>\n",
    "陳小東欠債200元<br>\n",
    "張小西欠債100000元<br>"
   ]
  },
  {
   "cell_type": "code",
   "execution_count": 10,
   "id": "alpha-triple",
   "metadata": {},
   "outputs": [
    {
     "name": "stdout",
     "output_type": "stream",
     "text": [
      "{'黃小明': 100, '陳小東': 200, '張小西': 100000}\n",
      "100000\n"
     ]
    }
   ],
   "source": [
    "MoneyBook={}\n",
    "MoneyBook['黃小明']=100\n",
    "MoneyBook['陳小東']=200\n",
    "MoneyBook['張小西']=100000\n",
    "print(MoneyBook)\n",
    "\n",
    "print(MoneyBook['張小西'])"
   ]
  },
  {
   "cell_type": "markdown",
   "id": "thirty-dublin",
   "metadata": {},
   "source": [
    "Example:<br>\n",
    "手冊細部<br>\n",
    "黃小明欠債100元<br>\n",
    "陳小東欠債200元<br>\n",
    "張小西欠債100000元<br>\n",
    "黃小明欠張小西1000元<br>"
   ]
  },
  {
   "cell_type": "code",
   "execution_count": 11,
   "id": "christian-parish",
   "metadata": {},
   "outputs": [
    {
     "name": "stdout",
     "output_type": "stream",
     "text": [
      "{'黃小明': 100, '陳小東': 200, '張小西': [100000, {'黃小明': 1000}]}\n",
      "[100000, {'黃小明': 1000}]\n"
     ]
    }
   ],
   "source": [
    "MoneyBook_west={}\n",
    "MoneyBook_west['黃小明']=1000\n",
    "\n",
    "MoneyBook_Boss={}\n",
    "MoneyBook_Boss['黃小明']=100\n",
    "MoneyBook_Boss['陳小東']=200\n",
    "MoneyBook_Boss['張小西']=[100000, MoneyBook_west]\n",
    "\n",
    "print(MoneyBook_Boss)\n",
    "\n",
    "print(MoneyBook_Boss['張小西'])"
   ]
  },
  {
   "cell_type": "code",
   "execution_count": 12,
   "id": "personalized-labor",
   "metadata": {},
   "outputs": [
    {
     "name": "stdout",
     "output_type": "stream",
     "text": [
      "dict_keys(['黃小明', '陳小東', '張小西'])\n",
      "dict_values([100, 200, [100000, {'黃小明': 1000}]])\n",
      "dict_items([('黃小明', 100), ('陳小東', 200), ('張小西', [100000, {'黃小明': 1000}])])\n",
      "{'黃小明': 100, '陳小東': 200, '張小西': [100000, {'黃小明': 1000}]}\n"
     ]
    }
   ],
   "source": [
    "print(MoneyBook_Boss.keys())\n",
    "print(MoneyBook_Boss.values())\n",
    "print(MoneyBook_Boss.items())\n",
    "print(MoneyBook_Boss)"
   ]
  },
  {
   "cell_type": "code",
   "execution_count": 13,
   "id": "organic-encyclopedia",
   "metadata": {},
   "outputs": [
    {
     "name": "stdout",
     "output_type": "stream",
     "text": [
      "黃小明\n",
      "陳小東\n",
      "張小西\n",
      "--------------------------------------------------\n",
      "黃小明:100\n",
      "陳小東:200\n",
      "張小西:[100000, {'黃小明': 1000}]\n"
     ]
    }
   ],
   "source": [
    "for tmp in MoneyBook_Boss:\n",
    "    print(tmp)\n",
    "    \n",
    "print('-'*50)\n",
    "for key,value in MoneyBook_Boss.items():\n",
    "    print('{}:{}'.format(key, value))"
   ]
  },
  {
   "cell_type": "markdown",
   "id": "accepting-fitting",
   "metadata": {},
   "source": [
    "## set\n",
    "\n",
    "set 我自己也很少用 <br>\n",
    "set 只會儲存獨一(unique)的資料，若輸入了重複的資訊，則會只記錄一筆。\n",
    "例如: {a,a,b,b}，只會return a, b\n",
    "- {} <br>\n",
    "- set() <br>"
   ]
  },
  {
   "cell_type": "code",
   "execution_count": 14,
   "id": "weird-brake",
   "metadata": {},
   "outputs": [
    {
     "name": "stdout",
     "output_type": "stream",
     "text": [
      "<class 'set'>\n",
      "{'b', 'a', 'c'}\n",
      "----\n",
      "<class 'set'>\n",
      "{'b', 'a', 'c'}\n"
     ]
    }
   ],
   "source": [
    "A = {\"a\", \"a\", \"a\", \"b\", \"c\"}\n",
    "print(type(A))\n",
    "print(A)\n",
    "print('----')\n",
    "A = set(A)\n",
    "print(type(A))\n",
    "print(A)\n"
   ]
  },
  {
   "cell_type": "code",
   "execution_count": 15,
   "id": "mental-concrete",
   "metadata": {},
   "outputs": [
    {
     "name": "stdout",
     "output_type": "stream",
     "text": [
      "<class 'set'>\n",
      "{1, 2, 333333}\n",
      "----\n",
      "<class 'set'>\n",
      "{1, 2, 333333}\n"
     ]
    }
   ],
   "source": [
    "A = {1,1,2,2,333333}\n",
    "print(type(A))\n",
    "print(A)\n",
    "print('----')\n",
    "A = set(A)\n",
    "print(type(A))\n",
    "print(A)"
   ]
  },
  {
   "cell_type": "markdown",
   "id": "expired-column",
   "metadata": {},
   "source": [
    "set的結果不能定位置<br>\n",
    "所以要用for loop來操作"
   ]
  },
  {
   "cell_type": "code",
   "execution_count": 16,
   "id": "square-setting",
   "metadata": {},
   "outputs": [
    {
     "name": "stdout",
     "output_type": "stream",
     "text": [
      "1\n",
      "2\n",
      "333333\n",
      "c\n",
      "a\n",
      "b\n"
     ]
    }
   ],
   "source": [
    "A = {1,1,2,2,333333}\n",
    "for a in A:\n",
    "    print(a)\n",
    "    \n",
    "A = {\"c\", \"a\", \"b\", \"b\", \"a\"}\n",
    "for a in A:\n",
    "    print(a)"
   ]
  },
  {
   "cell_type": "markdown",
   "id": "egyptian-restaurant",
   "metadata": {},
   "source": [
    "## Numpy Brief Introduction\n",
    "\n",
    "NumPy是Python語言的一個擴充程式庫。<br>\n",
    "支援高階大量的維度陣列與矩陣運算，此外也針對陣列運算提供大量的數學函式函式庫。<br>\n",
    "\n",
    "我們稍微介紹numpy的一些簡單運算的介紹<br>\n",
    "\n",
    "\n"
   ]
  },
  {
   "cell_type": "code",
   "execution_count": 17,
   "id": "fluid-stage",
   "metadata": {},
   "outputs": [
    {
     "name": "stdout",
     "output_type": "stream",
     "text": [
      "-----\n",
      "[1]\n",
      "(1,)\n",
      "-----\n",
      "[1 2 3]\n",
      "(3,)\n",
      "-----\n",
      "[[1]\n",
      " [2]]\n",
      "(2, 1)\n",
      "-----\n",
      "[[1 2]\n",
      " [3 4]]\n",
      "(2, 2)\n",
      "-----\n",
      "[[[1]\n",
      "  [2]]]\n",
      "(1, 2, 1)\n",
      "-----\n",
      "[[[ 1  2  3]\n",
      "  [ 4  5  6]]\n",
      "\n",
      " [[ 7  8  9]\n",
      "  [10 11 12]]]\n",
      "(2, 2, 3)\n"
     ]
    }
   ],
   "source": [
    "import numpy as np\n",
    "# Array\n",
    "A=np.array([1])\n",
    "print('-----')\n",
    "print(A)\n",
    "print(A.shape)\n",
    "\n",
    "A=np.array([1,2,3])\n",
    "print('-----')\n",
    "print(A)\n",
    "print(A.shape)\n",
    "\n",
    "## Matrix\n",
    "A=np.array([[1],[2]])\n",
    "print('-----')\n",
    "print(A)\n",
    "print(A.shape)\n",
    "\n",
    "A=np.array([[1,2],[3,4]])\n",
    "print('-----')\n",
    "print(A)\n",
    "print(A.shape)\n",
    "\n",
    "\n",
    "## Tensor\n",
    "A=np.array([[[1],[2]]])\n",
    "print('-----')\n",
    "print(A)\n",
    "print(A.shape)\n",
    "\n",
    "A=np.array([[[1,2,3],[4,5,6]], [[7,8,9],[10,11,12]]])\n",
    "print('-----')\n",
    "print(A)\n",
    "print(A.shape)"
   ]
  },
  {
   "cell_type": "code",
   "execution_count": 18,
   "id": "desirable-german",
   "metadata": {},
   "outputs": [
    {
     "name": "stdout",
     "output_type": "stream",
     "text": [
      "[3]\n"
     ]
    }
   ],
   "source": [
    "a=np.array([1])\n",
    "b=np.array([2])\n",
    "print(a+b)"
   ]
  },
  {
   "cell_type": "code",
   "execution_count": 19,
   "id": "ancient-tackle",
   "metadata": {},
   "outputs": [
    {
     "name": "stdout",
     "output_type": "stream",
     "text": [
      "[3 5]\n"
     ]
    }
   ],
   "source": [
    "a=np.array([1,3])\n",
    "b=np.array([2])\n",
    "print(a+b)"
   ]
  },
  {
   "cell_type": "code",
   "execution_count": 20,
   "id": "verbal-converter",
   "metadata": {},
   "outputs": [
    {
     "name": "stdout",
     "output_type": "stream",
     "text": [
      "[3 6]\n"
     ]
    }
   ],
   "source": [
    "a=np.array([1,3])\n",
    "b=np.array([2,3])\n",
    "print(a+b)"
   ]
  },
  {
   "cell_type": "code",
   "execution_count": 21,
   "id": "rational-deadline",
   "metadata": {},
   "outputs": [
    {
     "name": "stdout",
     "output_type": "stream",
     "text": [
      "[3 6]\n"
     ]
    }
   ],
   "source": [
    "a=np.array([1,3])\n",
    "b=np.array([2,3])\n",
    "print(a+b)"
   ]
  },
  {
   "cell_type": "code",
   "execution_count": 22,
   "id": "changed-bangladesh",
   "metadata": {},
   "outputs": [
    {
     "name": "stdout",
     "output_type": "stream",
     "text": [
      "a:\n",
      "[[1 2]\n",
      " [3 4]]\n",
      "b:\n",
      "[[1]\n",
      " [2]]\n",
      "a * b: \n",
      "[[1 2]\n",
      " [6 8]]\n",
      "a dot b:\n",
      "[[ 5]\n",
      " [11]]\n"
     ]
    }
   ],
   "source": [
    "a=np.array([[1,2],[3,4]])\n",
    "b=np.array([[1],[2]])\n",
    "print('a:\\n{}'.format(a))\n",
    "print('b:\\n{}'.format(b))\n",
    "print('a * b: \\n{}'.format(a*b))\n",
    "print('a dot b:\\n{}'.format(np.dot(a,b)))\n"
   ]
  },
  {
   "cell_type": "code",
   "execution_count": null,
   "id": "decent-particular",
   "metadata": {},
   "outputs": [],
   "source": []
  },
  {
   "cell_type": "code",
   "execution_count": null,
   "id": "acquired-salmon",
   "metadata": {},
   "outputs": [],
   "source": []
  },
  {
   "cell_type": "code",
   "execution_count": null,
   "id": "understood-injury",
   "metadata": {},
   "outputs": [],
   "source": []
  }
 ],
 "metadata": {
  "kernelspec": {
   "display_name": "Python 3",
   "language": "python",
   "name": "python3"
  },
  "language_info": {
   "codemirror_mode": {
    "name": "ipython",
    "version": 3
   },
   "file_extension": ".py",
   "mimetype": "text/x-python",
   "name": "python",
   "nbconvert_exporter": "python",
   "pygments_lexer": "ipython3",
   "version": "3.7.9"
  }
 },
 "nbformat": 4,
 "nbformat_minor": 5
}
